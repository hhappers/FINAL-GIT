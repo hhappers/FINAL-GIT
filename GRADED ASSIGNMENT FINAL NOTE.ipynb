{
 "cells": [
  {
   "cell_type": "markdown",
   "id": "aeb01d89-98f3-4812-bbb3-c0729612a38b",
   "metadata": {},
   "source": [
    "# Hunter's Jupyter Notebook on IBM Watson Studio"
   ]
  },
  {
   "cell_type": "markdown",
   "id": "0f2c7626-f684-4e0a-9b3c-06fcb03ce847",
   "metadata": {},
   "source": [
    "This is the introduction section for this final notebook"
   ]
  },
  {
   "cell_type": "markdown",
   "id": "f14c7dbe-93ac-4836-b7a0-3b21ad68779b",
   "metadata": {},
   "source": [
    "Some Data Science languages are Python, R, SQL"
   ]
  },
  {
   "cell_type": "markdown",
   "id": "24020cbc-2e9a-4572-b250-d7ae37dba5b5",
   "metadata": {},
   "source": [
    "Some Data Science libraries are Pandas, MySQL, Tensor Flow"
   ]
  },
  {
   "cell_type": "markdown",
   "id": "3e883fa6-19f0-4f13-afa5-f8bf6ec67ad0",
   "metadata": {},
   "source": [
    "| Tool Type     | Tool EX |\n",
    "| --------------|---------|\n",
    "|Data Management|Cassandra|\n",
    "|ELT |Apache Air Flow|"
   ]
  },
  {
   "cell_type": "markdown",
   "id": "085e3de7-8a3e-401c-b8a1-244b6dff672c",
   "metadata": {},
   "source": [
    "This code calculates the sum of 1,3,5 and product of 1,3,5"
   ]
  },
  {
   "cell_type": "code",
   "execution_count": 10,
   "id": "4442c403-3b1b-495a-b368-01249880d340",
   "metadata": {
    "tags": []
   },
   "outputs": [
    {
     "data": {
      "text/plain": [
       "9"
      ]
     },
     "execution_count": 10,
     "metadata": {},
     "output_type": "execute_result"
    }
   ],
   "source": [
    "1+3+5"
   ]
  },
  {
   "cell_type": "code",
   "execution_count": 11,
   "id": "959d0e92-34ff-405f-b823-99190c44034f",
   "metadata": {},
   "outputs": [
    {
     "data": {
      "text/plain": [
       "15"
      ]
     },
     "execution_count": 11,
     "metadata": {},
     "output_type": "execute_result"
    }
   ],
   "source": [
    "1*3*5"
   ]
  },
  {
   "cell_type": "markdown",
   "id": "78fbcc28-eac0-4c71-a42b-e16281526199",
   "metadata": {},
   "source": [
    "This code converts minutes to hours\n",
    "\n",
    "180 minutes = ? hours"
   ]
  },
  {
   "cell_type": "code",
   "execution_count": 12,
   "id": "3fd47784-acf8-415e-898a-7db3e4a83b24",
   "metadata": {},
   "outputs": [
    {
     "data": {
      "text/plain": [
       "3.0"
      ]
     },
     "execution_count": 12,
     "metadata": {},
     "output_type": "execute_result"
    }
   ],
   "source": [
    "180/60"
   ]
  },
  {
   "cell_type": "markdown",
   "id": "6d4ff6bb-35a0-4ec7-b459-e13b2e5b663a",
   "metadata": {},
   "source": [
    "**Answer : 3 hours!**"
   ]
  },
  {
   "cell_type": "markdown",
   "id": "cacc36ac-7975-44e0-a77f-1cc28da06ff6",
   "metadata": {},
   "source": [
    "Hey its me **Hunter Happersett** this is my notebook!\n"
   ]
  }
 ],
 "metadata": {
  "kernelspec": {
   "display_name": "Python",
   "language": "python",
   "name": "conda-env-python-py"
  },
  "language_info": {
   "codemirror_mode": {
    "name": "ipython",
    "version": 3
   },
   "file_extension": ".py",
   "mimetype": "text/x-python",
   "name": "python",
   "nbconvert_exporter": "python",
   "pygments_lexer": "ipython3",
   "version": "3.7.12"
  }
 },
 "nbformat": 4,
 "nbformat_minor": 5
}
